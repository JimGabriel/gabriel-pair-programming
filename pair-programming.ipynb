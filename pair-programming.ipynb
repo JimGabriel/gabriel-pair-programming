{
 "cells": [
  {
   "cell_type": "code",
   "execution_count": 1,
   "id": "edfff205-58e6-4885-af4e-0d7f70ac7b56",
   "metadata": {},
   "outputs": [],
   "source": [
    "#change cordinates from polar to cartesion\n",
    "import math \n",
    "def polar_to_cart(r, theta):\n",
    "    x = r * math.cos(theta)\n",
    "    y = r * math.sin(theta)\n",
    "    return(x, y)\n",
    "\n"
   ]
  },
  {
   "cell_type": "markdown",
   "id": "fe06d08f-8138-464a-8122-dd7e7d6f8548",
   "metadata": {},
   "source": [
    "code works well. could use some documentation but that's all."
   ]
  },
  {
   "cell_type": "code",
   "execution_count": 10,
   "id": "23b86c4f-a794-4bd3-8d55-53d0f9305214",
   "metadata": {},
   "outputs": [],
   "source": [
    "def test_function(polar_to_cart):\n",
    "    i = 1\n",
    "    if i == 1:\n",
    "        r = 1\n",
    "        theta = math.pi/6\n",
    "        i += 1\n",
    "        print(polar_to_cart(1, math.pi/6))\n",
    "    if i == 2:\n",
    "        r = 1\n",
    "        theta = math.pi/2\n",
    "        print(polar_to_cart(1, math.pi/2))\n",
    "    return test_function"
   ]
  },
  {
   "cell_type": "code",
   "execution_count": 11,
   "id": "f7ff08bf-49b4-42dd-830a-4dea3cc80d0e",
   "metadata": {},
   "outputs": [
    {
     "name": "stdout",
     "output_type": "stream",
     "text": [
      "(0.8660254037844387, 0.49999999999999994)\n",
      "(6.123233995736766e-17, 1.0)\n",
      "<function test_function at 0x7f9868e1e550>\n"
     ]
    }
   ],
   "source": [
    "print(test_function(polar_to_cart))"
   ]
  }
 ],
 "metadata": {
  "kernelspec": {
   "display_name": "Python 3 (ipykernel)",
   "language": "python",
   "name": "python3"
  },
  "language_info": {
   "codemirror_mode": {
    "name": "ipython",
    "version": 3
   },
   "file_extension": ".py",
   "mimetype": "text/x-python",
   "name": "python",
   "nbconvert_exporter": "python",
   "pygments_lexer": "ipython3",
   "version": "3.9.13"
  }
 },
 "nbformat": 4,
 "nbformat_minor": 5
}
